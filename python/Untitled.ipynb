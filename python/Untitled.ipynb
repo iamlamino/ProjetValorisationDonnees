{
 "cells": [
  {
   "cell_type": "code",
   "execution_count": null,
   "id": "9056d5ab-b088-4c00-8e66-e6083d6c9f37",
   "metadata": {},
   "outputs": [],
   "source": [
    "import pandas as pd\n",
    "\n",
    "df = pd.read_csv('../CSV/produits.csv', on_bad_lines='skip', sep=\",\")\n",
    "df = df.dropna()\n",
    "df.replace(to_replace='\\$', value='', regex=True, inplace=True)\n",
    "df.drop_duplicates(subset=None, keep='first', inplace=False, ignore_index=False)\n",
    "\n",
    "def convert_weights(weight):\n",
    "    if isinstance(weight, str):\n",
    "        if 'pounds' in weight:\n",
    "            return float(weight.replace(' pounds', ''))\n",
    "        elif 'ounces' in weight:\n",
    "            return float(weight.replace(' ounces', '')) * 0.0625\n",
    "        else:\n",
    "            return weight\n",
    "    return weight\n",
    "\n",
    "df['poidsExpedition'] = df['poidsExpedition'].apply(convert_weights)\n",
    "\n",
    "df[\"venteAmazone\"] = df[\"venteAmazone\"] .replace({'Y':1,'N':0}) \n",
    "\n",
    "\n",
    "\n",
    "df.to_csv('../CSV/produits.csv', index=False)"
   ]
  },
  {
   "cell_type": "code",
   "execution_count": null,
   "id": "030cdf41-1292-4ffb-8724-3ee80ccd9bf3",
   "metadata": {},
   "outputs": [],
   "source": []
  }
 ],
 "metadata": {
  "kernelspec": {
   "display_name": "Python 3 (ipykernel)",
   "language": "python",
   "name": "python3"
  },
  "language_info": {
   "codemirror_mode": {
    "name": "ipython",
    "version": 3
   },
   "file_extension": ".py",
   "mimetype": "text/x-python",
   "name": "python",
   "nbconvert_exporter": "python",
   "pygments_lexer": "ipython3",
   "version": "3.9.10"
  }
 },
 "nbformat": 4,
 "nbformat_minor": 5
}
