{
 "cells": [
  {
   "cell_type": "code",
   "execution_count": 19,
   "id": "a46c390e-4f96-40f9-96eb-d50a4189131a",
   "metadata": {},
   "outputs": [
    {
     "data": {
      "text/plain": [
       "\"#df['prix'] = df['prix'].str.replace('$', '', regex=True)\\n\\n\\nfor col in df.columns:\\n    print(col)\\n    print(len(col))\\n\""
      ]
     },
     "execution_count": 19,
     "metadata": {},
     "output_type": "execute_result"
    }
   ],
   "source": [
    "import pandas as pd\n",
    "\n",
    "df = pd.read_csv('../data/dirtyProducts.csv', on_bad_lines='skip', sep=\";\")\n",
    "df = df.dropna()\n",
    "df.replace(to_replace='\\$', value='', regex=True, inplace=True)\n",
    "df.drop_duplicates(subset=None, keep='first', inplace=False, ignore_index=False)\n",
    "\n",
    "def convert_weights(weight):\n",
    "    if isinstance(weight, str):\n",
    "        if 'pounds' in weight:\n",
    "            return float(weight.replace(' pounds', ''))\n",
    "        elif 'ounces' in weight:\n",
    "            return float(weight.replace(' ounces', '')) * 0.0625\n",
    "        else:\n",
    "            return weight\n",
    "    return weight\n",
    "\n",
    "df['Shipping Weight'] = df['Shipping Weight'].apply(convert_weights)\n",
    "\n",
    "df[\"Is Amazon Seller\"] = df[\"Is Amazon Seller\"] .replace({'Y':1,'N':0}) \n",
    "\n",
    "\n",
    "\n",
    "df.to_csv('../data/dirtyProducts.csv', index=False)\n",
    "\n",
    "\"\"\"#df['prix'] = df['prix'].str.replace('$', '', regex=True)\n",
    "\n",
    "\n",
    "for col in df.columns:\n",
    "    print(col)\n",
    "    print(len(col))\n",
    "\"\"\"\n"
   ]
  }
 ],
 "metadata": {
  "kernelspec": {
   "display_name": "Python 3 (ipykernel)",
   "language": "python",
   "name": "python3"
  },
  "language_info": {
   "codemirror_mode": {
    "name": "ipython",
    "version": 3
   },
   "file_extension": ".py",
   "mimetype": "text/x-python",
   "name": "python",
   "nbconvert_exporter": "python",
   "pygments_lexer": "ipython3",
   "version": "3.9.10"
  }
 },
 "nbformat": 4,
 "nbformat_minor": 5
}
